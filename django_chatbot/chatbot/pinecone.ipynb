{
 "cells": [
  {
   "cell_type": "markdown",
   "metadata": {},
   "source": [
    "## Load data and split into chunks"
   ]
  },
  {
   "cell_type": "code",
   "execution_count": 3,
   "metadata": {},
   "outputs": [],
   "source": [
    "from langchain.text_splitter import RecursiveCharacterTextSplitter\n",
    "from langchain_community.document_loaders import WebBaseLoader\n",
    "\n",
    "loader = WebBaseLoader(\"https://en.wikipedia.org/wiki/Cancer\")\n",
    "docs = loader.load()\n",
    "text_chunks = RecursiveCharacterTextSplitter(\n",
    "    chunk_size=1000, chunk_overlap=200\n",
    ").split_documents(docs)\n",
    "\n"
   ]
  },
  {
   "cell_type": "markdown",
   "metadata": {},
   "source": [
    "## Initialize pinecone vector database"
   ]
  },
  {
   "cell_type": "code",
   "execution_count": null,
   "metadata": {},
   "outputs": [],
   "source": [
    "import os\n",
    "from pinecone import Pinecone, ServerlessSpec\n",
    "from langchain_openai import OpenAIEmbeddings\n",
    "from dotenv import load_dotenv, find_dotenv\n",
    "\n",
    "load_dotenv(find_dotenv())\n",
    "\n",
    "embeddings = OpenAIEmbeddings()\n",
    "\n",
    "PINECONE_API_KEY = os.environ.get('PINECONE_API_KEY')\n",
    "\n",
    "pc = Pinecone(api_key=PINECONE_API_KEY)\n",
    "\n",
    "result = embeddings.embed_query(\"How are you!\")\n",
    "result\n",
    "print('''*********Example result:\\n''', result)"
   ]
  },
  {
   "cell_type": "markdown",
   "metadata": {},
   "source": [
    "## Create an index"
   ]
  },
  {
   "cell_type": "code",
   "execution_count": 7,
   "metadata": {},
   "outputs": [],
   "source": [
    "# To empty the index. DONT RUN THIS CELL IF YOU WANT TO KEEP THE INDEX\n",
    "import time\n",
    "\n",
    "index_name = \"cancer-wiki\" # put in the name of your pinecone index here. When creating the index in pinecone.io, the Dimensions have to be the same as the result length. \n",
    "\n",
    "if index_name in pc.list_indexes().names():\n",
    "    pc.delete_index(index_name)\n",
    "\n",
    "pc.create_index(\n",
    "    name=index_name,\n",
    "    dimension=1536,\n",
    "    metric=\"cosine\",\n",
    "    spec=ServerlessSpec(cloud=\"aws\", region=\"us-east-1\"),\n",
    ")\n",
    "while not pc.describe_index(index_name).status[\"ready\"]:\n",
    "    time.sleep(1)\n",
    "\n",
    "index = pc.Index(index_name)"
   ]
  },
  {
   "cell_type": "markdown",
   "metadata": {},
   "source": [
    "## If you already have an index, you can load it like this"
   ]
  },
  {
   "cell_type": "code",
   "execution_count": null,
   "metadata": {},
   "outputs": [],
   "source": [
    "# from langchain_pinecone import PineconeVectorStore\n",
    "\n",
    "# docsearch = PineconeVectorStore.from_existing_index(index_name, embeddings)\n",
    "\n",
    "# docsearch"
   ]
  },
  {
   "cell_type": "markdown",
   "metadata": {},
   "source": [
    "## (DON'T RUN) Create Embeddings for each of the Text Chunk"
   ]
  },
  {
   "cell_type": "code",
   "execution_count": 10,
   "metadata": {},
   "outputs": [
    {
     "data": {
      "text/plain": [
       "<langchain_pinecone.vectorstores.PineconeVectorStore at 0x247292160c0>"
      ]
     },
     "execution_count": 10,
     "metadata": {},
     "output_type": "execute_result"
    }
   ],
   "source": [
    "# insert chunks into index. DONT RUN THIS CELL IF YOU DONT WANT TO INSERT THE CHUNKS INTO THE INDEX\n",
    "from langchain_pinecone import PineconeVectorStore\n",
    "\n",
    "# embeddings is from openai. This uploads the embeddings to your index in pinecone.io. I guess Pinecone automatically uses the API key from .env file. This keeps adding embeddings to the index, so if you keep running this, there will be duplicates.\n",
    "docsearch = PineconeVectorStore.from_documents(\n",
    "    text_chunks, embeddings, index_name=index_name\n",
    ")\n",
    "docsearch"
   ]
  },
  {
   "cell_type": "markdown",
   "metadata": {},
   "source": [
    "## Test the pinecone vector database\n"
   ]
  },
  {
   "cell_type": "code",
   "execution_count": 11,
   "metadata": {},
   "outputs": [
    {
     "data": {
      "text/plain": [
       "[Document(id='d8fa95a9-5bf3-4404-a4ea-a079da7d8efa', metadata={'language': 'en', 'source': 'https://en.wikipedia.org/wiki/Cancer', 'title': 'Cancer - Wikipedia'}, page_content='Some environments make errors more likely to arise and propagate. Such environments can include the presence of disruptive substances called carcinogens, repeated physical injury, heat, ionising radiation, or hypoxia.[98]\\nThe errors that cause cancer are self-amplifying and compounding, for example:'),\n",
       " Document(id='0cffe2e5-d015-44f9-81a8-c809b15f72fc', metadata={'language': 'en', 'source': 'https://en.wikipedia.org/wiki/Cancer', 'title': 'Cancer - Wikipedia'}, page_content='Causes\\nMain article: Causes of cancer\\nThe GHS Hazard pictogram for carcinogenic substances\\nShare of cancer deaths attributed to tobacco in 2016.[42]\\nThe majority of cancers, some 90–95% of cases, are due to genetic mutations from environmental and lifestyle factors.[3] The remaining 5–10% are due to inherited genetics.[3] Environmental refers to any cause that is not inherited, such as lifestyle, economic, and behavioral factors and not merely pollution.[43] Common environmental factors that contribute to cancer death include tobacco use (25–30%), diet and obesity (30–35%), infections (15–20%), radiation (both ionizing and non-ionizing, up to 10%), lack of physical activity, and pollution.[3][44] Psychological stress does not appear to be a risk factor for the onset of cancer,[45][46] though it may worsen outcomes in those who already have cancer.[45]'),\n",
       " Document(id='5b1b29b6-ae65-419d-bae1-977a318ff74f', metadata={'language': 'en', 'source': 'https://en.wikipedia.org/wiki/Cancer', 'title': 'Cancer - Wikipedia'}, page_content=\"Tobacco use is the cause of about 22% of cancer deaths.[2] Another 10% are due to obesity, poor diet, lack of physical activity or excessive alcohol consumption.[2][8][9] Other factors include certain infections, exposure to ionizing radiation, and environmental pollutants.[3] Infection with specific viruses, bacteria and parasites is an environmental factor causing approximately 16-18% of cancers worldwide.[10]  These infectious agents include Helicobacter pylori, hepatitis B, hepatitis C, human papillomavirus infection, Epstein–Barr virus, Human T-lymphotropic virus 1, Kaposi's sarcoma-associated herpesvirus and Merkel cell polyomavirus.  Human immunodeficiency virus (HIV) does not directly cause cancer but it causes immune deficiency that can magnify the risk due to other infections, sometimes up to several thousand fold (in the case of Kaposi's sarcoma). Importantly, vaccination against hepatitis B and human papillomavirus have been shown to nearly eliminate risk of cancers caused\"),\n",
       " Document(id='f2041d43-37d4-4a67-80df-e2fa32aa1f77', metadata={'language': 'en', 'source': 'https://en.wikipedia.org/wiki/Cancer', 'title': 'Cancer - Wikipedia'}, page_content='Environmental or lifestyle factors that caused cancer to develop in an individual can be identified by analyzing mutational signatures from genomic sequencing of tumor DNA. For example, this can reveal if lung cancer was caused by tobacco smoke, if skin cancer was caused by UV radiation, or if secondary cancers were caused by previous chemotherapy treatment.[47]\\nCancer is generally not a transmissible disease.[48] Exceptions include rare transmissions that occur with pregnancies and occasional organ donors. However, transmissible infectious diseases such as hepatitis B, Epstein-Barr virus, Human Papilloma Virus and HIV, can contribute to the development of cancer.[citation needed]')]"
      ]
     },
     "execution_count": 11,
     "metadata": {},
     "output_type": "execute_result"
    }
   ],
   "source": [
    "query = \"What causes cancer?\"\n",
    "docs= docsearch.similarity_search(query, k=4)\n",
    "docs"
   ]
  }
 ],
 "metadata": {
  "kernelspec": {
   "display_name": ".venv",
   "language": "python",
   "name": "python3"
  },
  "language_info": {
   "codemirror_mode": {
    "name": "ipython",
    "version": 3
   },
   "file_extension": ".py",
   "mimetype": "text/x-python",
   "name": "python",
   "nbconvert_exporter": "python",
   "pygments_lexer": "ipython3",
   "version": "3.12.4"
  }
 },
 "nbformat": 4,
 "nbformat_minor": 2
}
